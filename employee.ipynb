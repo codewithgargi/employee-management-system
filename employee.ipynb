import pickle
import sys
class Employee(object):
    def __init__(self, emp_name, emp_address, veh):
        self.__employee_name = emp_name
        self.__employee_address = emp_address
        self.__vehicle = veh #Aggregation

    def get_name(self):
        return self.__employee_name

    def get_address(self):
        return self.__employee_address

    def get_vehicle_data(self):
        return self.__vehicle

    def set_name(self, emp_name):
        self.__employee_name = emp_name

    def set_address(self, emp_address):
        self.__employee_address = emp_address

    def set_vehicle_data(self, veh):
        self.__vehicle = veh

    def __str__(self):
        emp = f"Employee Name: {self.__employee_name}"
        emp += f"\nEmployee Address: {self.__employee_address}"
        emp += f"\n\n***Vehicle Data***\n{self.__vehicle.__str__()}"
        return emp
class FullTimeEmployee(Employee):
    def __init__(self, emp_name, emp_address, veh, salary):
        super().__init__(emp_name, emp_address, veh)
        self.__emp_salary = salary

    def get_salary(self):
        return self.__emp_salary

    def set_salary(self, salary):
        self.__emp_salary = salary

    def compute_compensation(self):
        if(self.__emp_salary <= 45000):
            return (self.__emp_salary - (0.18*self.__emp_salary))
        elif(self.__emp_salary > 45000 and self.__emp_salary <= 82000):
            return (self.__emp_salary - ((0.18*45000) + (0.28 * (self.__emp_salary - 45000))))
        else:
            return (self.__emp_salary - ((0.18*45000) + (0.28 * (82000 - 45000)) + (0.33 * (self.__emp_salary - 82000))))

    def __str__(self):
        childData = super().__str__()
        childData = f"\n\n***Employee Details***\n{childData}"
        childData += f"\n\n***Full Time Employee***"
        childData += f"\nSalary: {self.__emp_salary}"
        return childData
class HourlyEmployee(Employee):
    def __init__(self, emp_name, emp_address, veh, hoursWorked, hourlyRate):
        super().__init__(emp_name, emp_address, veh)
        self.__emp_hoursWorked = hoursWorked
        self.__emp_hourlyRate = hourlyRate

    def get_hoursWorked(self):
        return self.__emp_hoursWorked

    def set_hoursWorked(self, hoursWorked):
        self.__emp_hoursWorked = hoursWorked
        
    def get_hourlyRate(self):
        return self.__emp_hourlyRate

    def set_hourlyRate(self, hourlyRate):
        self.__emp_hourlyRate = hourlyRate

    def compute_compensation(self):
        if(self.__emp_hoursWorked <= 40):
            return (self.__emp_hourlyRate * self.__emp_hoursWorked)
        else:
            return ((self.__emp_hourlyRate * 40) + (self.__emp_hourlyRate * (self.__emp_hoursWorked - 40) * 1.8))

    def __str__(self):
        childData = super().__str__()
        childData = f"\n\n***Employee Details***\n{childData}"
        childData += f"\n\n***Hourly Rate Employee***"
        childData += f"\nHours Worked: {self.__emp_hoursWorked}"
        childData += f"\nHourly Rate: {self.__emp_hourlyRate}"
        return childData
class Consultant(Employee): 

    def __init__(self, emp_name, emp_address, veh, hoursWorked, ProjectType):
        super().__init__(emp_name, emp_address, veh)
        self.__emp_hoursWorked = hoursWorked
        self.__emp_proj_type = ProjectType

    def get_hoursWorked(self):
        return self.__emp_hoursWorked

    def set_hoursWorked(self, hoursWorked):
        self.__emp_hoursWorked = hoursWorked
        
    def get_ProjectType(self):
        return self.__emp_proj_type

    def set_ProjectType(self, hourlyRate):
        self.__emp_proj_type = ProjectType

    def compute_compensation(self):
        if(self.__emp_proj_type == 1):
            return (55.0 * self.__emp_hoursWorked)
        elif(self.__emp_proj_type == 2):
            return (70.0 * self.__emp_hoursWorked)
        else:
            return (85.0 * self.__emp_hoursWorked)

    def __str__(self):
        childData = super().__str__()
        childData = f"\n\n***Employee Details***\n{childData}"
        childData += f"\n\n***Consultant***"
        childData += f"\nProject Type: {self.__emp_proj_type}"
        childData += f"\nHours Worked: {self.__emp_hoursWorked}"
        return childData

class Vehicle:
    def __init__(self, make, model, year, mileage):
        self.__veh_make = make
        self.__veh_model = model
        self.__veh_year = year
        self.__veh_mileage = mileage

    def get_make(self):
        return self.__veh_make

    def get_model(self):
        return self.__veh_model

    def get_year(self):
        return self.__veh_year

    def get_mileage(self):
        return self.__veh_mileage

    def set_make(self, make):
        self.__veh_make = make

    def set_model(self, model):
        self.__veh_model = model

    def set_year(self, year):
        self.__veh_year = year

    def set_mileage(self, mileage):
        self.__veh_mileage = mileage

    def __str__(self):
        veh = f"Vehicle Make: {self.__veh_make}"
        veh += f"\nVehicle Model: {self.__veh_model}"
        veh += f"\nVehicle Year: {str(self.__veh_year)}"
        veh += f"\nVehicle Mileage: {str(self.__veh_mileage)}"
        return veh
'''
Define the main() method.  This just calls the run_menu_options() method
'''
def main():
    run_menu_options()

def run_menu_options():
    emp_data_list = read_file_data()
    sel = 1

    while sel >=  1 and sel <= 5:
        print("\n==== Menu ====")
        print("1. Accept input for new Employees.")
        print("2. Display employee information (including vehicle information) for all the employees that are there in the system.")
        print("3. List the name of the Employees along with the compensation received by each.")
        print("4. Display the employee name together with the make, model and mileage of all vehicles with mileage greater than 78000 miles.")
        print("5. Exit the system.")

        try:
            sel = int(input("Your selection: "))
            if(sel < 1 or sel > 5):
                raise ValueError                 
        except ValueError:
            print('You must enter an integer between 1 and 5!')
            print('Try again..')
            sel = 1
            continue

        if sel == 1:
            emp_data_list.append(run_option1())
        elif sel == 2:
            if(len(emp_data_list) == 0):
                print("No employees in database!")
            else:
                run_option2(emp_data_list) 
        elif sel == 3:
            if(len(emp_data_list) == 0):
                print("No employees in database!")
            else:
                run_option3() 
        elif sel == 4:
            if(len(emp_data_list) == 0):
                print("No employees in database!")
            else:
                run_option4() 
        elif sel == 5:
            run_option5(emp_data_list)
            
'''This method reads the binary file containing all the library books that are currently in the database and stores
it in a list. Once all the book objects have been read into the list, it returns the list to the calling method.
'''
def read_file_data():
    my_lst = [] #Create an empty list
    try:
        #Call the open command within a try block.  Note that the file is opend for binary read.
        fb = open('empdata.dat', 'rb') 
    except FileNotFoundError:

        #If the file is not there (this will be the case, the first time the program is executed), the empty file is returned.
        return my_lst 

    #If there is no error reading the file, the rest of the code is executed.
    else: 
        try:

            #This is a repeated loop which will terminate only when the EOFError occurs.
            while (True): 

                #This statement reads the next object from the file and appends it to the list
                my_lst.append(pickle.load(fb))

        #When the EOFError occurs, the file is closed and the list (containing all the book objects that have just been read) is returned.
        except EOFError: 
            fb.close()
            return my_lst
'''
    This method is executed each time the user selects option 1 (add a new book).
'''
def run_option1():
    sel = 0
   
    while(sel < 1 or sel > 3): #Repeat the prompt until the user enters an valid value of 1, 2, or 3
        try:
            sel = int(input("Type of Employee?(1-Full Time Employee; 2-Hourly Employee; 3-Consultant) : "))
        except ValueError: 
            print('Wrong selection of type of employee!')
            continue

    emp_name, emp_address = get_emp_input()
veh_make, veh_model, veh_year, veh_mileage = get_vehicle_input()
    veh_obj = Vehicle(veh_make, veh_model, veh_year, veh_mileage) 

    if sel == 1:
        sal = get_fulltimeemployee_input()
        result = FullTimeEmployee(emp_name, emp_address, veh_obj, sal)
    elif sel == 2:
        hoursWorked, hourlyRate = get_hourlyemployee_input()
        result = HourlyEmployee(emp_name, emp_address, veh_obj, hoursWorked, hourlyRate)
    elif sel == 3:
        hoursWorked, ProjectType = get_consultant_input()
        result = Consultant(emp_name, emp_address, veh_obj, hoursWorked, ProjectType)
    return result 
'''
Display employee information (including vehicle information) for all the employees that are there in the system.
'''	
def run_option2(my_lst):
    print("-----------------------------")
    for ele in my_lst:
        print(ele)
        print("-----------------------------")
'''
List the name of the Employees along with the compensation received by each.
'''
def run_option3():
    fb = read_file_data()
        
    if(len(fb) != 0):
        print("-----------------------------")
        for _ in fb:
            print("Employee Name: ", _.get_name())
            print("Compensation: ",_.compute_compensation())
            print("-----------------------------")
    else:
        print("File empty!")
        run_menu_options()
'''
Display the employee name together with the make, model and mileage of all vehicles whose mileage is greater than 78000 miles.
'''
def run_option4():
    fb = read_file_data()
        
    if(len(fb) != 0):
        print("-----------------------------")
        for _ in fb:
            if(int(_.get_vehicle_data().get_mileage()) > 78000):
                print("Employee Name: ", _.get_name())
                print(_.get_vehicle_data())
                print("-----------------------------")
    else:
        print("File empty!")
        run_menu_options()    
'''
Exit the system.
'''
def run_option5(my_lst):
    #The program first confirms that the user really wants to exit the program
    print("You chose to exit the program")
    yes_no = input("Are you sure (Y/N)? ")

    if yes_no.lower() == 'y':
        fb = open('empdata.dat', 'wb')
        for obj in my_lst:
            pickle.dump(obj, fb)
        fb.close()
        print('Execution stopped!')
        sys.exit()
    else:
        print('Execution not stopped.')
def get_emp_input(): 
    emp_name = input('Enter the Employee Name: ')
    emp_address = input('Enter the Address: ')

    return (emp_name, emp_address)
def get_vehicle_input():
    veh_make = input('Enter the Vehicle make: ')
    veh_model = input('Enter the Vehicle model: ')
     err_flg = True
    while err_flg:
        try:
            veh_year = int(input("Enter the Vehicle's manfucaturing year: "))
        except ValueError:
            print('Enter a integer value for year.')
        else:
            err_flg = False
    err_flg = True
    
    while err_flg:
        try:
            veh_mileage = int(input("Enter the Vehicle mileage: "))
        except ValueError:
            print('Enter a integer value for mileage.')
        else:
            err_flg = False

    return (veh_make, veh_model, veh_year, veh_mileage)
def get_fulltimeemployee_input():
    err_flg = True
    while err_flg:
        try:
            sal = float(input('Enter the salary: '))
        except ValueError:
            print('\nEnter a numerical value for salary!')
        else:
            err_flg = False
    return (sal)
def get_hourlyemployee_input():
    err_flg = True
    while err_flg:
        try:
            hoursWorked = int(input('Enter the hours worked: '))
        except ValueError:
            print('Enter a integer value for hours worked!')
        try:
            hourlyRate = float(input('Enter the hourly rate: '))
        except ValueError:
            print('Enter a numeric value for salary!')
        else:
            err_flg = False
err_flg = True

    return (hoursWorked, hourlyRate)
def get_consultant_input():
    err_flg1 = True
    while err_flg1:
        
        try:
            hoursWorked = int(input('Enter the hours worked: '))
        except ValueError:
            print('Enter a integer value for hours worked!')
        else:
            err_flg1 = False
    err_flg1 = True
        
    err_flg2 = True
    while err_flg2:
        try:
            ProjectType = int(input('Enter the Project Type (1, 2 or 3): '))
            if(ProjectType < 1 or ProjectType > 3):
                raise Exception 
        except Exception:
            print('Wrong input of Project Type!')
        else:
            err_flg2 = False
    err_flg2 = True

    return (hoursWorked, ProjectType)
#Call the main() function to start the application
main()
